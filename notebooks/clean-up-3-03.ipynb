{
 "cells": [
  {
   "metadata": {},
   "cell_type": "markdown",
   "source": "### Load all datasets\n",
   "id": "c3135850f3c5dbf4"
  },
  {
   "cell_type": "code",
   "id": "initial_id",
   "metadata": {
    "collapsed": true,
    "ExecuteTime": {
     "end_time": "2025-03-03T18:40:29.595486Z",
     "start_time": "2025-03-03T18:40:29.579739Z"
    }
   },
   "source": [
    "import pandas as pd\n",
    "\n",
    "integrated_og_combined_color_count = pd.read_csv('../outputs/integrated_ocean_plastics.csv')\n",
    "integrated_og_combined_color_count.describe()"
   ],
   "outputs": [
    {
     "data": {
      "text/plain": [
       "              Year      mp/kg dw  log_concentration\n",
       "count  2597.000000  2.729000e+03        2729.000000\n",
       "mean   2018.641894  1.373535e+04           0.852433\n",
       "std       0.500755  7.051343e+05           0.829072\n",
       "min    2013.000000  0.000000e+00           0.000000\n",
       "25%    2018.000000  7.231181e-01           0.236315\n",
       "50%    2019.000000  3.744196e+00           0.676163\n",
       "75%    2019.000000  1.875361e+01           1.295646\n",
       "max    2019.000000  3.683603e+07           7.566273"
      ],
      "text/html": [
       "<div>\n",
       "<style scoped>\n",
       "    .dataframe tbody tr th:only-of-type {\n",
       "        vertical-align: middle;\n",
       "    }\n",
       "\n",
       "    .dataframe tbody tr th {\n",
       "        vertical-align: top;\n",
       "    }\n",
       "\n",
       "    .dataframe thead th {\n",
       "        text-align: right;\n",
       "    }\n",
       "</style>\n",
       "<table border=\"1\" class=\"dataframe\">\n",
       "  <thead>\n",
       "    <tr style=\"text-align: right;\">\n",
       "      <th></th>\n",
       "      <th>Year</th>\n",
       "      <th>mp/kg dw</th>\n",
       "      <th>log_concentration</th>\n",
       "    </tr>\n",
       "  </thead>\n",
       "  <tbody>\n",
       "    <tr>\n",
       "      <th>count</th>\n",
       "      <td>2597.000000</td>\n",
       "      <td>2.729000e+03</td>\n",
       "      <td>2729.000000</td>\n",
       "    </tr>\n",
       "    <tr>\n",
       "      <th>mean</th>\n",
       "      <td>2018.641894</td>\n",
       "      <td>1.373535e+04</td>\n",
       "      <td>0.852433</td>\n",
       "    </tr>\n",
       "    <tr>\n",
       "      <th>std</th>\n",
       "      <td>0.500755</td>\n",
       "      <td>7.051343e+05</td>\n",
       "      <td>0.829072</td>\n",
       "    </tr>\n",
       "    <tr>\n",
       "      <th>min</th>\n",
       "      <td>2013.000000</td>\n",
       "      <td>0.000000e+00</td>\n",
       "      <td>0.000000</td>\n",
       "    </tr>\n",
       "    <tr>\n",
       "      <th>25%</th>\n",
       "      <td>2018.000000</td>\n",
       "      <td>7.231181e-01</td>\n",
       "      <td>0.236315</td>\n",
       "    </tr>\n",
       "    <tr>\n",
       "      <th>50%</th>\n",
       "      <td>2019.000000</td>\n",
       "      <td>3.744196e+00</td>\n",
       "      <td>0.676163</td>\n",
       "    </tr>\n",
       "    <tr>\n",
       "      <th>75%</th>\n",
       "      <td>2019.000000</td>\n",
       "      <td>1.875361e+01</td>\n",
       "      <td>1.295646</td>\n",
       "    </tr>\n",
       "    <tr>\n",
       "      <th>max</th>\n",
       "      <td>2019.000000</td>\n",
       "      <td>3.683603e+07</td>\n",
       "      <td>7.566273</td>\n",
       "    </tr>\n",
       "  </tbody>\n",
       "</table>\n",
       "</div>"
      ]
     },
     "execution_count": 4,
     "metadata": {},
     "output_type": "execute_result"
    }
   ],
   "execution_count": 4
  },
  {
   "metadata": {
    "ExecuteTime": {
     "end_time": "2025-03-03T18:49:19.615573Z",
     "start_time": "2025-03-03T18:49:19.608656Z"
    }
   },
   "cell_type": "code",
   "source": [
    "xb_color_count = pd.read_csv(\"../data/Xialiao Beach color count.csv\")\n",
    "lb_color_count = pd.read_csv(\"../data/Longmen Beach color count.csv\")"
   ],
   "id": "3d17262996fa28e3",
   "outputs": [],
   "execution_count": 11
  },
  {
   "metadata": {},
   "cell_type": "markdown",
   "source": "### Combine colors sets and save as a new CSV file",
   "id": "d173e590ca4973d7"
  },
  {
   "metadata": {
    "ExecuteTime": {
     "end_time": "2025-03-03T18:54:15.965917Z",
     "start_time": "2025-03-03T18:54:15.956448Z"
    }
   },
   "cell_type": "code",
   "source": [
    "combined_color_count = pd.concat([xb_color_count, lb_color_count], ignore_index=True)\n",
    "\n",
    "# Check the shape of the combined dataframe\n",
    "print(f\"Xialiao Beach shape: {xb_color_count.shape}\")\n",
    "print(f\"Longmen Beach shape: {lb_color_count.shape}\")\n",
    "print(f\"Combined dataframe shape: {combined_color_count.shape}\")\n",
    "\n",
    "# Preview the combined dataframe\n",
    "combined_color_count.head()"
   ],
   "id": "fd4faa056784e2fb",
   "outputs": [
    {
     "name": "stdout",
     "output_type": "stream",
     "text": [
      "Xialiao Beach shape: (966, 18)\n",
      "Longmen Beach shape: (1626, 18)\n",
      "Combined dataframe shape: (2592, 18)\n"
     ]
    },
    {
     "data": {
      "text/plain": [
       "  Date_YYYY-MM-DD Country_Region  Location_name  Location_lat  Location_lon  \\\n",
       "0      2018-04-25         Taiwan  Xialiao_Beach      25.21469     121.65406   \n",
       "1      2018-04-25         Taiwan  Xialiao_Beach      25.21469     121.65406   \n",
       "2      2018-04-25         Taiwan  Xialiao_Beach      25.21469     121.65406   \n",
       "3      2018-04-25         Taiwan  Xialiao_Beach      25.21469     121.65406   \n",
       "4      2018-04-25         Taiwan  Xialiao_Beach      25.21469     121.65406   \n",
       "\n",
       "  Transect  Position  Size_min_mm  Size_max_mm     Size_class  no_color  \\\n",
       "0        A         1            1            5  microplastics      52.0   \n",
       "1        A         2            1            5  microplastics      36.0   \n",
       "2        A         3            1            5  microplastics      76.0   \n",
       "3        A         4            1            5  microplastics      56.0   \n",
       "4        A         5            1            5  microplastics     179.0   \n",
       "\n",
       "   black  grey  red_pink  orange_brown_yellow  green  blue  purple  \n",
       "0    0.0   0.0       0.0                  0.0    0.0   0.0     0.0  \n",
       "1    0.0   0.0       0.0                  0.0    0.0   0.0     0.0  \n",
       "2    1.0   0.0       2.0                  0.0    0.0   0.0     0.0  \n",
       "3    0.0   1.0       0.0                  0.0    0.0   0.0     0.0  \n",
       "4    0.0   0.0       1.0                  1.0    2.0   1.0     0.0  "
      ],
      "text/html": [
       "<div>\n",
       "<style scoped>\n",
       "    .dataframe tbody tr th:only-of-type {\n",
       "        vertical-align: middle;\n",
       "    }\n",
       "\n",
       "    .dataframe tbody tr th {\n",
       "        vertical-align: top;\n",
       "    }\n",
       "\n",
       "    .dataframe thead th {\n",
       "        text-align: right;\n",
       "    }\n",
       "</style>\n",
       "<table border=\"1\" class=\"dataframe\">\n",
       "  <thead>\n",
       "    <tr style=\"text-align: right;\">\n",
       "      <th></th>\n",
       "      <th>Date_YYYY-MM-DD</th>\n",
       "      <th>Country_Region</th>\n",
       "      <th>Location_name</th>\n",
       "      <th>Location_lat</th>\n",
       "      <th>Location_lon</th>\n",
       "      <th>Transect</th>\n",
       "      <th>Position</th>\n",
       "      <th>Size_min_mm</th>\n",
       "      <th>Size_max_mm</th>\n",
       "      <th>Size_class</th>\n",
       "      <th>no_color</th>\n",
       "      <th>black</th>\n",
       "      <th>grey</th>\n",
       "      <th>red_pink</th>\n",
       "      <th>orange_brown_yellow</th>\n",
       "      <th>green</th>\n",
       "      <th>blue</th>\n",
       "      <th>purple</th>\n",
       "    </tr>\n",
       "  </thead>\n",
       "  <tbody>\n",
       "    <tr>\n",
       "      <th>0</th>\n",
       "      <td>2018-04-25</td>\n",
       "      <td>Taiwan</td>\n",
       "      <td>Xialiao_Beach</td>\n",
       "      <td>25.21469</td>\n",
       "      <td>121.65406</td>\n",
       "      <td>A</td>\n",
       "      <td>1</td>\n",
       "      <td>1</td>\n",
       "      <td>5</td>\n",
       "      <td>microplastics</td>\n",
       "      <td>52.0</td>\n",
       "      <td>0.0</td>\n",
       "      <td>0.0</td>\n",
       "      <td>0.0</td>\n",
       "      <td>0.0</td>\n",
       "      <td>0.0</td>\n",
       "      <td>0.0</td>\n",
       "      <td>0.0</td>\n",
       "    </tr>\n",
       "    <tr>\n",
       "      <th>1</th>\n",
       "      <td>2018-04-25</td>\n",
       "      <td>Taiwan</td>\n",
       "      <td>Xialiao_Beach</td>\n",
       "      <td>25.21469</td>\n",
       "      <td>121.65406</td>\n",
       "      <td>A</td>\n",
       "      <td>2</td>\n",
       "      <td>1</td>\n",
       "      <td>5</td>\n",
       "      <td>microplastics</td>\n",
       "      <td>36.0</td>\n",
       "      <td>0.0</td>\n",
       "      <td>0.0</td>\n",
       "      <td>0.0</td>\n",
       "      <td>0.0</td>\n",
       "      <td>0.0</td>\n",
       "      <td>0.0</td>\n",
       "      <td>0.0</td>\n",
       "    </tr>\n",
       "    <tr>\n",
       "      <th>2</th>\n",
       "      <td>2018-04-25</td>\n",
       "      <td>Taiwan</td>\n",
       "      <td>Xialiao_Beach</td>\n",
       "      <td>25.21469</td>\n",
       "      <td>121.65406</td>\n",
       "      <td>A</td>\n",
       "      <td>3</td>\n",
       "      <td>1</td>\n",
       "      <td>5</td>\n",
       "      <td>microplastics</td>\n",
       "      <td>76.0</td>\n",
       "      <td>1.0</td>\n",
       "      <td>0.0</td>\n",
       "      <td>2.0</td>\n",
       "      <td>0.0</td>\n",
       "      <td>0.0</td>\n",
       "      <td>0.0</td>\n",
       "      <td>0.0</td>\n",
       "    </tr>\n",
       "    <tr>\n",
       "      <th>3</th>\n",
       "      <td>2018-04-25</td>\n",
       "      <td>Taiwan</td>\n",
       "      <td>Xialiao_Beach</td>\n",
       "      <td>25.21469</td>\n",
       "      <td>121.65406</td>\n",
       "      <td>A</td>\n",
       "      <td>4</td>\n",
       "      <td>1</td>\n",
       "      <td>5</td>\n",
       "      <td>microplastics</td>\n",
       "      <td>56.0</td>\n",
       "      <td>0.0</td>\n",
       "      <td>1.0</td>\n",
       "      <td>0.0</td>\n",
       "      <td>0.0</td>\n",
       "      <td>0.0</td>\n",
       "      <td>0.0</td>\n",
       "      <td>0.0</td>\n",
       "    </tr>\n",
       "    <tr>\n",
       "      <th>4</th>\n",
       "      <td>2018-04-25</td>\n",
       "      <td>Taiwan</td>\n",
       "      <td>Xialiao_Beach</td>\n",
       "      <td>25.21469</td>\n",
       "      <td>121.65406</td>\n",
       "      <td>A</td>\n",
       "      <td>5</td>\n",
       "      <td>1</td>\n",
       "      <td>5</td>\n",
       "      <td>microplastics</td>\n",
       "      <td>179.0</td>\n",
       "      <td>0.0</td>\n",
       "      <td>0.0</td>\n",
       "      <td>1.0</td>\n",
       "      <td>1.0</td>\n",
       "      <td>2.0</td>\n",
       "      <td>1.0</td>\n",
       "      <td>0.0</td>\n",
       "    </tr>\n",
       "  </tbody>\n",
       "</table>\n",
       "</div>"
      ]
     },
     "execution_count": 13,
     "metadata": {},
     "output_type": "execute_result"
    }
   ],
   "execution_count": 13
  },
  {
   "metadata": {
    "ExecuteTime": {
     "end_time": "2025-03-03T18:58:10.525326Z",
     "start_time": "2025-03-03T18:58:10.510261Z"
    }
   },
   "cell_type": "code",
   "source": [
    "# Save the combined dataframe to a new CSV file\n",
    "combined_color_count.to_csv('../outputs/combined_beach_color_count.csv', index=False)"
   ],
   "id": "81e2bfea3be1aa31",
   "outputs": [],
   "execution_count": 14
  },
  {
   "metadata": {},
   "cell_type": "markdown",
   "source": "### Display dataset info\n",
   "id": "4684aa68b6be4cc8"
  },
  {
   "metadata": {
    "ExecuteTime": {
     "end_time": "2025-03-03T19:45:02.201021Z",
     "start_time": "2025-03-03T19:45:02.198628Z"
    }
   },
   "cell_type": "code",
   "source": [
    "print(\"Original dataset info:\")\n",
    "print(f\"Number of rows: {len(combined_color_count)}\")\n",
    "print(f\"Number of columns: {len(combined_color_count.columns)}\")\n",
    "print(f\"Columns: {', '.join(combined_color_count.columns)}\")\n",
    "print()"
   ],
   "id": "2e57d9ef797ed5c9",
   "outputs": [
    {
     "name": "stdout",
     "output_type": "stream",
     "text": [
      "Original dataset info:\n",
      "Number of rows: 2592\n",
      "Number of columns: 18\n",
      "Columns: Date_YYYY-MM-DD, Country_Region, Location_name, Location_lat, Location_lon, Transect, Position, Size_min_mm, Size_max_mm, Size_class, no_color, black, grey, red_pink, orange_brown_yellow, green, blue, purple\n",
      "\n"
     ]
    }
   ],
   "execution_count": 16
  },
  {
   "metadata": {},
   "cell_type": "markdown",
   "source": "### Create a new column for \"Dominant Color\"",
   "id": "9e7a4085718b3f12"
  },
  {
   "metadata": {
    "ExecuteTime": {
     "end_time": "2025-03-03T19:45:14.603906Z",
     "start_time": "2025-03-03T19:45:14.600977Z"
    }
   },
   "cell_type": "code",
   "source": [
    "combined_color_count[\"Dominant Color\"] = \"unknown\"\n",
    "print(\"Step 1: Added 'Dominant Color' column with default value 'unknown'\")"
   ],
   "id": "f085121e6f7ce864",
   "outputs": [
    {
     "name": "stdout",
     "output_type": "stream",
     "text": [
      "Step 1: Added 'Dominant Color' column with default value 'unknown'\n"
     ]
    }
   ],
   "execution_count": 17
  },
  {
   "metadata": {},
   "cell_type": "markdown",
   "source": "### Define a function to find the dominant color for each row\n",
   "id": "c45928edbaeac5a0"
  },
  {
   "metadata": {
    "ExecuteTime": {
     "end_time": "2025-03-03T19:45:18.859658Z",
     "start_time": "2025-03-03T19:45:18.857095Z"
    }
   },
   "cell_type": "code",
   "source": [
    "def find_dominant_color(row):\n",
    "    \"\"\"\n",
    "    Find the column with the highest numerical value among the color columns.\n",
    "    If the highest value is 0, keep \"unknown\".\n",
    "    If the column is \"no_color\", return \"transparent\".\n",
    "    Otherwise, return the name of the column.\n",
    "    \"\"\"\n",
    "    # List of color columns to check\n",
    "    color_cols = ['no_color', 'black', 'grey', 'red_pink',\n",
    "                 'orange_brown_yellow', 'green', 'blue', 'purple']\n",
    "\n",
    "    # Extract the color values for this row\n",
    "    color_values = [row[col] for col in color_cols]\n",
    "\n",
    "    # Find the maximum value and its index\n",
    "    max_val = max(color_values)\n",
    "    max_idx = color_values.index(max_val)\n",
    "\n",
    "    # If the maximum value is 0, keep \"unknown\"\n",
    "    if max_val == 0:\n",
    "        return \"unknown\"\n",
    "\n",
    "    # Get the name of the column with the maximum value\n",
    "    max_col = color_cols[max_idx]\n",
    "\n",
    "    # Replace \"no_color\" with \"transparent\"\n",
    "    if max_col == \"no_color\":\n",
    "        return \"transparent\"\n",
    "    else:\n",
    "        return max_col"
   ],
   "id": "21a36150f02c36e9",
   "outputs": [],
   "execution_count": 18
  },
  {
   "metadata": {},
   "cell_type": "markdown",
   "source": "### Apply the function to each row and drop the numerical color columns",
   "id": "c59b2b57c139cfe8"
  },
  {
   "metadata": {
    "ExecuteTime": {
     "end_time": "2025-03-03T19:45:23.592934Z",
     "start_time": "2025-03-03T19:45:23.561960Z"
    }
   },
   "cell_type": "code",
   "source": [
    "combined_color_count[\"Dominant Color\"] = combined_color_count.apply(find_dominant_color, axis=1)\n",
    "print(\"Step 2: Applied function to determine the dominant color for each row\")\n",
    "\n",
    "# Display information about the dominant color transformation\n",
    "print(\"\\nDominant color distribution:\")\n",
    "print(combined_color_count[\"Dominant Color\"].value_counts())\n",
    "print()\n",
    "\n",
    "# Step 3: Drop the numerical color columns\n",
    "color_cols = ['no_color', 'black', 'grey', 'red_pink',\n",
    "             'orange_brown_yellow', 'green', 'blue', 'purple']\n",
    "\n",
    "combined_color_count = combined_color_count.drop(columns=color_cols)\n",
    "print(\"Step 3: Dropped numerical color columns\")"
   ],
   "id": "76cca8b05685f49f",
   "outputs": [
    {
     "name": "stdout",
     "output_type": "stream",
     "text": [
      "Step 2: Applied function to determine the dominant color for each row\n",
      "\n",
      "Dominant color distribution:\n",
      "Dominant Color\n",
      "transparent            1833\n",
      "unknown                 650\n",
      "black                    26\n",
      "green                    22\n",
      "grey                     18\n",
      "orange_brown_yellow      15\n",
      "red_pink                 14\n",
      "blue                     13\n",
      "purple                    1\n",
      "Name: count, dtype: int64\n",
      "\n",
      "Step 3: Dropped numerical color columns\n"
     ]
    }
   ],
   "execution_count": 19
  },
  {
   "metadata": {},
   "cell_type": "markdown",
   "source": "### Display information about the transformations and save the modified dataset",
   "id": "c321469d58e48ab4"
  },
  {
   "metadata": {
    "ExecuteTime": {
     "end_time": "2025-03-03T19:45:31.636931Z",
     "start_time": "2025-03-03T19:45:31.625485Z"
    }
   },
   "cell_type": "code",
   "source": [
    "print(\"\\nFinal dataset info:\")\n",
    "print(f\"Number of rows: {len(combined_color_count)}\")\n",
    "print(f\"Number of columns: {len(combined_color_count.columns)}\")\n",
    "print(f\"Columns: {', '.join(combined_color_count.columns)}\")\n",
    "print()\n",
    "\n",
    "# Save the modified dataset to a CSV file\n",
    "output_file = \"beach_data_with_dominant_color.csv\"\n",
    "combined_color_count.to_csv(output_file, index=False)\n",
    "print(f\"Step 4: Modified dataset saved to '{output_file}'\")\n",
    "\n",
    "# Print a sample of the transformed data\n",
    "print(\"\\nSample of transformed data (first 5 rows):\")\n",
    "print(combined_color_count.head(5).to_string())\n"
   ],
   "id": "9e8a88aff914f8c3",
   "outputs": [
    {
     "name": "stdout",
     "output_type": "stream",
     "text": [
      "\n",
      "Final dataset info:\n",
      "Number of rows: 2592\n",
      "Number of columns: 11\n",
      "Columns: Date_YYYY-MM-DD, Country_Region, Location_name, Location_lat, Location_lon, Transect, Position, Size_min_mm, Size_max_mm, Size_class, Dominant Color\n",
      "\n",
      "Step 4: Modified dataset saved to 'beach_data_with_dominant_color.csv'\n",
      "\n",
      "Sample of transformed data (first 5 rows):\n",
      "  Date_YYYY-MM-DD Country_Region  Location_name  Location_lat  Location_lon Transect  Position  Size_min_mm  Size_max_mm     Size_class Dominant Color\n",
      "0      2018-04-25         Taiwan  Xialiao_Beach      25.21469     121.65406        A         1            1            5  microplastics    transparent\n",
      "1      2018-04-25         Taiwan  Xialiao_Beach      25.21469     121.65406        A         2            1            5  microplastics    transparent\n",
      "2      2018-04-25         Taiwan  Xialiao_Beach      25.21469     121.65406        A         3            1            5  microplastics    transparent\n",
      "3      2018-04-25         Taiwan  Xialiao_Beach      25.21469     121.65406        A         4            1            5  microplastics    transparent\n",
      "4      2018-04-25         Taiwan  Xialiao_Beach      25.21469     121.65406        A         5            1            5  microplastics    transparent\n"
     ]
    }
   ],
   "execution_count": 20
  }
 ],
 "metadata": {
  "kernelspec": {
   "display_name": "Python 3",
   "language": "python",
   "name": "python3"
  },
  "language_info": {
   "codemirror_mode": {
    "name": "ipython",
    "version": 2
   },
   "file_extension": ".py",
   "mimetype": "text/x-python",
   "name": "python",
   "nbconvert_exporter": "python",
   "pygments_lexer": "ipython2",
   "version": "2.7.6"
  }
 },
 "nbformat": 4,
 "nbformat_minor": 5
}
